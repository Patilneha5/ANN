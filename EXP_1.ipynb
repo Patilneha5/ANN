{
  "nbformat": 4,
  "nbformat_minor": 0,
  "metadata": {
    "colab": {
      "provenance": [],
      "authorship_tag": "ABX9TyMIB+fX8xhB+9yIQ4/6OErl",
      "include_colab_link": true
    },
    "kernelspec": {
      "name": "python3",
      "display_name": "Python 3"
    },
    "language_info": {
      "name": "python"
    }
  },
  "cells": [
    {
      "cell_type": "markdown",
      "metadata": {
        "id": "view-in-github",
        "colab_type": "text"
      },
      "source": [
        "<a href=\"https://colab.research.google.com/github/Patilneha5/ANN/blob/main/EXP_1.ipynb\" target=\"_parent\"><img src=\"https://colab.research.google.com/assets/colab-badge.svg\" alt=\"Open In Colab\"/></a>"
      ]
    },
    {
      "cell_type": "markdown",
      "source": [
        "\n",
        "# ***Implementing Basic Artificial neuron Model***"
      ],
      "metadata": {
        "id": "KOqBk0TdbIjm"
      }
    },
    {
      "cell_type": "markdown",
      "source": [
        "## ***Basic Neuron model for AND Gate ***"
      ],
      "metadata": {
        "id": "dA9li9kzgkY5"
      }
    },
    {
      "cell_type": "code",
      "source": [
        "#Function for AND Gate\n",
        "def artificialBasicModelForANDGate(inputs, weights, bias):\n",
        "  weighted_sum = 0\n",
        "  for i in range(len(inputs)):\n",
        "    weighted_sum += inputs[i] * weights[i]\n",
        "  weighted_sum += bias\n",
        "  if weighted_sum > 0:\n",
        "    return 1\n",
        "  else:\n",
        "    return 0\n",
        "\n",
        "inputs = [1, 1]\n",
        "#inputs = [1, 0]\n",
        "#inputs = [0, 1]\n",
        "#inputs = [0, 0]\n",
        "\n",
        "\n",
        "weights = [1,1]\n",
        "bias = -1.5\n",
        "output = artificialBasicModelForANDGate(inputs, weights, bias)\n",
        "print(output)"
      ],
      "metadata": {
        "colab": {
          "base_uri": "https://localhost:8080/"
        },
        "id": "ucOuaSItguXT",
        "outputId": "559e1036-712a-40ea-c4f1-1f41db0a2c77"
      },
      "execution_count": null,
      "outputs": [
        {
          "output_type": "stream",
          "name": "stdout",
          "text": [
            "1\n"
          ]
        }
      ]
    },
    {
      "cell_type": "code",
      "source": [
        "#Function for AND Gate\n",
        "def artificialBasicModelForANDGate(inputs, weights, bias):\n",
        "  weighted_sum = 0\n",
        "  for i in range(len(inputs)):\n",
        "    weighted_sum += inputs[i] * weights[i]\n",
        "  weighted_sum += bias\n",
        "  if weighted_sum > 0:\n",
        "    return 1\n",
        "  else:\n",
        "    return 0\n",
        "\n",
        "inputs = [1, 1]\n",
        "#inputs = [1, 0]\n",
        "#inputs = [0, 1]\n",
        "#inputs = [0, 0]\n",
        "\n",
        "#weights = [1, 1]\n",
        "#weights = [-0.5, -0.5]\n",
        "#weights = [0.5, 0.5]\n",
        "weights = [-1, -1]\n",
        "\n",
        "\n",
        "bias = -1.5\n",
        "output = artificialBasicModelForANDGate(inputs, weights, bias)\n",
        "print(output)"
      ],
      "metadata": {
        "colab": {
          "base_uri": "https://localhost:8080/"
        },
        "id": "b4cKIAZZho38",
        "outputId": "74e8fc3a-8be0-4598-c3ae-df26b3e85c57"
      },
      "execution_count": null,
      "outputs": [
        {
          "output_type": "stream",
          "name": "stdout",
          "text": [
            "0\n"
          ]
        }
      ]
    },
    {
      "cell_type": "code",
      "source": [
        "#Function for AND Gate\n",
        "def artificialBasicModelForANDGate(inputs, weights, bias):\n",
        "  weighted_sum = 0\n",
        "  for i in range(len(inputs)):\n",
        "    weighted_sum += inputs[i] * weights[i]\n",
        "  weighted_sum += bias\n",
        "  if weighted_sum > 0:\n",
        "    return 1\n",
        "  else:\n",
        "    return 0\n",
        "\n",
        "#inputs = [1, 1]\n",
        "#inputs = [1, 0]\n",
        "inputs = [0, 1]\n",
        "#inputs = [0, 0]\n",
        "\n",
        "weights = [1,1]\n",
        "\n",
        "#bias = -1.5\n",
        "#bias = -0.5\n",
        "bias = 0.5\n",
        "output = artificialBasicModelForANDGate(inputs, weights, bias)\n",
        "print(output)"
      ],
      "metadata": {
        "colab": {
          "base_uri": "https://localhost:8080/"
        },
        "id": "WOHTBxE-irJK",
        "outputId": "bce9a050-c90c-45b8-9d6a-7b27a4a0dbe9"
      },
      "execution_count": null,
      "outputs": [
        {
          "output_type": "stream",
          "name": "stdout",
          "text": [
            "1\n"
          ]
        }
      ]
    },
    {
      "cell_type": "markdown",
      "source": [
        "## ***Basic Neuron model for OR Gate ***\n",
        "\n",
        "\n"
      ],
      "metadata": {
        "id": "E-I0qlEgjO5n"
      }
    },
    {
      "cell_type": "code",
      "source": [
        "#Function for OR Gate\n",
        "def artificialBasicModelForANDGate(inputs, weights, bias):\n",
        "  weighted_sum = 0\n",
        "  for i in range(len(inputs)):\n",
        "    weighted_sum += inputs[i] * weights[i]\n",
        "  weighted_sum += bias\n",
        "  if weighted_sum > 0:\n",
        "    return 1\n",
        "  else:\n",
        "    return 0\n",
        "\n",
        "inputs = [1, 1]\n",
        "#inputs = [1, 0]\n",
        "#inputs = [0, 1]\n",
        "#inputs = [0, 0]\n",
        "\n",
        "\n",
        "weights = [1,1]\n",
        "bias = -0.5\n",
        "output = artificialBasicModelForANDGate(inputs, weights, bias)\n",
        "print(output)"
      ],
      "metadata": {
        "colab": {
          "base_uri": "https://localhost:8080/"
        },
        "id": "KcN3CQXxjVhV",
        "outputId": "d2fae9e2-c4a6-4208-8a9e-c020c0ee9f45"
      },
      "execution_count": null,
      "outputs": [
        {
          "output_type": "stream",
          "name": "stdout",
          "text": [
            "1\n"
          ]
        }
      ]
    },
    {
      "cell_type": "markdown",
      "source": [
        "# **Basic Neuron model for NOT Gate**"
      ],
      "metadata": {
        "id": "KxufZOj3j0PX"
      }
    },
    {
      "cell_type": "code",
      "source": [
        "#Function for NOT Gate\n",
        "def artificialBasicModelForANDGate(inputs, weights, bias):\n",
        "  weighted_sum = 0\n",
        "  for i in range(len(inputs)):\n",
        "    weighted_sum += inputs[i] * weights[i]\n",
        "  weighted_sum += bias\n",
        "  if weighted_sum > 0:\n",
        "    return 1\n",
        "  else:\n",
        "    return 0\n",
        "\n",
        "#inputs = [1]\n",
        "inputs = [0]\n",
        "\n",
        "weights = [-1]\n",
        "bias = 0.5\n",
        "output = artificialBasicModelForANDGate(inputs, weights, bias)\n",
        "print(output)"
      ],
      "metadata": {
        "colab": {
          "base_uri": "https://localhost:8080/"
        },
        "id": "9nsZpTi1j8D3",
        "outputId": "f2887091-a738-4276-e098-322cd43d6db8"
      },
      "execution_count": null,
      "outputs": [
        {
          "output_type": "stream",
          "name": "stdout",
          "text": [
            "1\n"
          ]
        }
      ]
    },
    {
      "cell_type": "markdown",
      "source": [
        "# **Basic Neuron model for NAND Gate**"
      ],
      "metadata": {
        "id": "nixRSd3flmo0"
      }
    },
    {
      "cell_type": "code",
      "source": [
        "#Function for NAND Gate\n",
        "def artificialBasicModelForANDGate(inputs, weights, bias):\n",
        "  weighted_sum = 0\n",
        "  for i in range(len(inputs)):\n",
        "    weighted_sum += inputs[i] * weights[i]\n",
        "  weighted_sum += bias\n",
        "  if weighted_sum > 0:\n",
        "    return 1\n",
        "  else:\n",
        "    return 0\n",
        "\n",
        "#inputs = [1, 1]\n",
        "#inputs = [1, 0]\n",
        "#inputs = [0, 1]\n",
        "inputs = [0, 0]\n",
        "\n",
        "\n",
        "weights = [-1, -1]\n",
        "bias = 1.5\n",
        "output = artificialBasicModelForANDGate(inputs, weights, bias)\n",
        "print(output)"
      ],
      "metadata": {
        "colab": {
          "base_uri": "https://localhost:8080/"
        },
        "id": "86H0d_5sl9oL",
        "outputId": "ceaae832-439c-4717-bd56-74c85a6f7cb1"
      },
      "execution_count": null,
      "outputs": [
        {
          "output_type": "stream",
          "name": "stdout",
          "text": [
            "1\n"
          ]
        }
      ]
    },
    {
      "cell_type": "markdown",
      "source": [
        "# **Basic Neuron Model For NOR Gate**"
      ],
      "metadata": {
        "id": "6fMLDdMqm-Ux"
      }
    },
    {
      "cell_type": "code",
      "source": [
        "#Function for NOR Gate\n",
        "def artificialBasicModelForANDGate(inputs, weights, bias):\n",
        "  weighted_sum = 0\n",
        "  for i in range(len(inputs)):\n",
        "    weighted_sum += inputs[i] * weights[i]\n",
        "  weighted_sum += bias\n",
        "  if weighted_sum > 0:\n",
        "    return 1\n",
        "  else:\n",
        "    return 0\n",
        "\n",
        "#inputs = [1, 1]\n",
        "#inputs = [1, 0]\n",
        "inputs = [0, 1]\n",
        "#inputs = [0, 0]\n",
        "\n",
        "\n",
        "weights = [-1.5, -1.5]\n",
        "bias = 1\n",
        "output = artificialBasicModelForANDGate(inputs, weights, bias)\n",
        "print(output)"
      ],
      "metadata": {
        "colab": {
          "base_uri": "https://localhost:8080/"
        },
        "id": "MZzWX6V5nIAK",
        "outputId": "b6061194-d5b8-4227-c7c1-32bb3c18c1a1"
      },
      "execution_count": null,
      "outputs": [
        {
          "output_type": "stream",
          "name": "stdout",
          "text": [
            "0\n"
          ]
        }
      ]
    }
  ]
}